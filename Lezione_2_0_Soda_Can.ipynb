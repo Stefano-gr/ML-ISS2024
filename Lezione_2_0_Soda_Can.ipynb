{
  "nbformat": 4,
  "nbformat_minor": 0,
  "metadata": {
    "colab": {
      "provenance": [],
      "authorship_tag": "ABX9TyPwbjjEjUqh6g6rfisPuHKP",
      "include_colab_link": true
    },
    "kernelspec": {
      "name": "python3",
      "display_name": "Python 3"
    },
    "language_info": {
      "name": "python"
    }
  },
  "cells": [
    {
      "cell_type": "markdown",
      "metadata": {
        "id": "view-in-github",
        "colab_type": "text"
      },
      "source": [
        "<a href=\"https://colab.research.google.com/github/pumazzo/ML-ISS2024/blob/main/Lezione_2_0_Soda_Can.ipynb\" target=\"_parent\"><img src=\"https://colab.research.google.com/assets/colab-badge.svg\" alt=\"Open In Colab\"/></a>"
      ]
    },
    {
      "cell_type": "code",
      "execution_count": null,
      "metadata": {
        "id": "_6_qzuFqQkUK"
      },
      "outputs": [],
      "source": [
        "import torch\n",
        "import numpy as np\n",
        "import matplotlib.pyplot as plt\n"
      ]
    },
    {
      "cell_type": "code",
      "source": [
        "# soda can problem\n",
        "V0 = 330\n",
        "SoverV0 = lambda r: 2/r + (2*np.pi * r **2) / V0"
      ],
      "metadata": {
        "id": "fvTKea9VVwDQ"
      },
      "execution_count": null,
      "outputs": []
    },
    {
      "cell_type": "code",
      "source": [
        "SoverV0(1)\n",
        "r = np.linspace(0.2,20,300)\n",
        "y = SoverV0(r)"
      ],
      "metadata": {
        "id": "lvYqqIMNVx3v"
      },
      "execution_count": null,
      "outputs": []
    },
    {
      "cell_type": "code",
      "source": [
        "plt.plot(r,y)\n",
        "plt.xlabel(\"Radius (cm)\" , fontsize =17)\n",
        "plt.ylabel(\"Surface Volume ratio (cm^-1)\", fontsize =17)"
      ],
      "metadata": {
        "id": "mzkzNb9WV4jY"
      },
      "execution_count": null,
      "outputs": []
    }
  ]
}